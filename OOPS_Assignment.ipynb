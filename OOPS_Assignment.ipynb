{
  "nbformat": 4,
  "nbformat_minor": 0,
  "metadata": {
    "colab": {
      "provenance": [],
      "authorship_tag": "ABX9TyMCAxfqlKoDpDZ4sNX6yvr3",
      "include_colab_link": true
    },
    "kernelspec": {
      "name": "python3",
      "display_name": "Python 3"
    },
    "language_info": {
      "name": "python"
    }
  },
  "cells": [
    {
      "cell_type": "markdown",
      "metadata": {
        "id": "view-in-github",
        "colab_type": "text"
      },
      "source": [
        "<a href=\"https://colab.research.google.com/github/ArchanaSahoo89/OOPS_Assignment/blob/main/OOPS_Assignment.ipynb\" target=\"_parent\"><img src=\"https://colab.research.google.com/assets/colab-badge.svg\" alt=\"Open In Colab\"/></a>"
      ]
    },
    {
      "cell_type": "code",
      "execution_count": null,
      "metadata": {
        "id": "uNvKw8REff3y"
      },
      "outputs": [],
      "source": [
        "# 1. What are the five key concepts of Object-Oriented Programming (OOP)?\n",
        "\n",
        "# The five key concepts of Object-Oriented Programming (OOP) are:\n",
        "\n",
        "# Class: A blueprint for creating objects. It defines a set of attributes and methods that the created objects will have.\n",
        "# Object: An instance of a class. It represents a specific entity with defined attributes and behaviors.\n",
        "# Encapsulation: The bundling of data and methods that operate on the data within one unit, typically a class. It restricts direct access to some of the object`s components, which is a means of preventing accidental interference and misuse of the data.\n",
        "# Inheritance: A mechanism where a new class inherits properties and behaviors (methods) from an existing class. This promotes code reusability.\n",
        "# Polymorphism: The ability of different classes to be treated as instances of the same class through a common interface. It allows one interface to be used for a general class of actions, making it easier to scale and maintain code.\n"
      ]
    },
    {
      "cell_type": "code",
      "source": [
        "# 2. Write a Python class for a `Car` with attributes for `make`, `model`, and `year`. Include a method to display\n",
        "#    the car`s information.\n",
        "\n",
        "class Car:\n",
        "    def __init__(self, make, model, year):\n",
        "        self.make = make\n",
        "        self.model = model\n",
        "        self.year = year\n",
        "\n",
        "    def display_info(self):\n",
        "        print(f\"Car Information: {self.year}, {self.make}, {self.model}\")\n",
        "\n",
        "my_car = Car(\"Toyota\", \"Corolla\", 2020)\n",
        "my_car.display_info()\n",
        "\n"
      ],
      "metadata": {
        "colab": {
          "base_uri": "https://localhost:8080/"
        },
        "id": "3trDWpQ_fopj",
        "outputId": "ce8df778-2490-4080-eef7-af7a1a112326"
      },
      "execution_count": null,
      "outputs": [
        {
          "output_type": "stream",
          "name": "stdout",
          "text": [
            "Car Information: 2020, Toyota, Corolla\n"
          ]
        }
      ]
    },
    {
      "cell_type": "code",
      "source": [
        "# 3. Explain the difference between instance methods and class methods. Provide an example of each.\n",
        "\n",
        "# Instance Methods\n",
        "\n",
        "# Instance methods are functions defined inside a class that operate on instances of the class. They take self as the first parameter, which refers to the instance calling the method.\n",
        "# They can access and modify the instance’s attributes and other methods.\n",
        "# Example of instance method:\n",
        "\n",
        "class MyClass:\n",
        "    def __init__(self, value):\n",
        "        self.value = value\n",
        "\n",
        "    def instance_method(self):\n",
        "        return f'Instance method called, value: {self.value}'\n",
        "\n",
        "\n",
        "obj = MyClass(10)\n",
        "print(obj.instance_method())\n",
        "\n",
        "\n",
        "# Class Methods\n",
        "\n",
        "# Class methods are functions that are bound to the class and not the instance. They take cls as the first parameter, which refers to the class itself. They are defined using the @classmethod decorator.\n",
        "# They can access and modify class-level attributes but cannot access instance-level attributes directly.\n",
        "# Example of class method:\n",
        "\n",
        "class MyClass:\n",
        "    class_variable = 0\n",
        "\n",
        "    @classmethod\n",
        "    def class_method(cls, increment):\n",
        "        cls.class_variable += increment\n",
        "        return f'Class method called, class_variable: {cls.class_variable}'\n",
        "\n",
        "\n",
        "print(MyClass.class_method(5))\n",
        "print(MyClass.class_method(10))\n",
        "\n",
        "\n",
        "# In summary, instance methods work with individual instances of a class, while class methods work with the class itself. Both are useful for different scenarios in object-oriented programming.\n",
        "\n"
      ],
      "metadata": {
        "id": "DkUENy7Nfoc8",
        "colab": {
          "base_uri": "https://localhost:8080/"
        },
        "outputId": "cbad7565-6838-40a0-a9ce-497d522c7f60"
      },
      "execution_count": 1,
      "outputs": [
        {
          "output_type": "stream",
          "name": "stdout",
          "text": [
            "Instance method called, value: 10\n",
            "Class method called, class_variable: 5\n",
            "Class method called, class_variable: 15\n"
          ]
        }
      ]
    },
    {
      "cell_type": "code",
      "source": [
        "# 4. How does Python implement method overloading? Give an example.\n",
        "\n",
        "# we can achieve method overloading functionality in python using default arguments or variable-length arguments.\n",
        "# Here`s an example using default arguments:\n",
        "\n",
        "class Example:\n",
        "    def add(self, a=None, b=None, c=None):\n",
        "        if a is not None and b is not None and c is not None:\n",
        "            return a + b + c\n",
        "        elif a is not None and b is not None:\n",
        "            return a + b\n",
        "        else:\n",
        "            return a\n",
        "\n",
        "obj = Example()\n",
        "\n",
        "print(obj.add(10, 20, 30))\n",
        "print(obj.add(10, 20))\n",
        "print(obj.add(10))\n",
        "\n",
        "# In this example, add method can handle different number of arguments by checking which arguments are none and performing the appropriate operation.#\n"
      ],
      "metadata": {
        "id": "1bMHHPNsfn_S",
        "colab": {
          "base_uri": "https://localhost:8080/"
        },
        "outputId": "1d0f9ee0-b25d-41ec-c43d-51044b577d84"
      },
      "execution_count": 5,
      "outputs": [
        {
          "output_type": "stream",
          "name": "stdout",
          "text": [
            "60\n",
            "30\n",
            "10\n"
          ]
        }
      ]
    },
    {
      "cell_type": "code",
      "source": [
        "# 5. What are the three types of access modifiers in Python? How are they denoted?\n",
        "\n",
        "\n",
        "# In Python, there are three types of access modifiers: public, protected, and private. These modifiers control the accessibility of class members (attributes and methods).\n",
        "\n",
        "# Public:\n",
        "# Members declared as public are accessible from anywhere, both inside and outside the class. By default, all members of a class are public.\n",
        "# Example:\n",
        "\n",
        "class Example:\n",
        "    def __init__(self, name):\n",
        "        self.name = name  # Public attribute\n",
        "\n",
        "obj = Example(\"Alice\")\n",
        "print(obj.name)\n",
        "\n",
        "# Protected:\n",
        "# Members declared as protected are accessible within the class and its subclasses. They are denoted by a single underscore _ before the member name.\n",
        "# Example:\n",
        "\n",
        "class Example:\n",
        "    def __init__(self, name):\n",
        "        self._name = name  # Protected attribute\n",
        "\n",
        "class SubExample(Example):\n",
        "    def display_name(self):\n",
        "        print(self._name)  # Accessible in subclass\n",
        "\n",
        "obj = SubExample(\"Bob\")\n",
        "obj.display_name()\n",
        "\n",
        "# Private:\n",
        "# Members declared as private are accessible only within the class they are defined in. They are denoted by a double underscore __ before the member name. Python uses name mangling to make private members inaccessible from outside the class.\n",
        "# Example:\n",
        "\n",
        "class Example:\n",
        "    def __init__(self, name):\n",
        "        self.__name = name  # Private attribute\n",
        "\n",
        "    def get_name(self):\n",
        "        return self.__name  # Accessible within the class\n",
        "\n",
        "obj = Example(\"Charlie\")\n",
        "print(obj.get_name())\n",
        "\n",
        "\n",
        "#print(obj.__name)\n",
        "# These access modifiers help in encapsulating the data and protecting it from unauthorized access.\n",
        "\n"
      ],
      "metadata": {
        "id": "b9bxaTHXfnxf",
        "colab": {
          "base_uri": "https://localhost:8080/"
        },
        "outputId": "d0a136c7-dcc4-41c0-85e2-4a2128ef08c0"
      },
      "execution_count": 7,
      "outputs": [
        {
          "output_type": "stream",
          "name": "stdout",
          "text": [
            "Alice\n",
            "Bob\n",
            "Charlie\n"
          ]
        }
      ]
    },
    {
      "cell_type": "code",
      "source": [
        "# 6. Describe the five types of inheritance in Python. Provide a simple example of multiple inheritance.\n",
        "\n",
        "# In Python, there are five types of inheritance:\n",
        "\n",
        "# Single Inheritance:\n",
        "# A child class inherits from a single parent class.\n",
        "# Example:\n",
        "\n",
        "class Parent:\n",
        "    def func1(self):\n",
        "        print(\"This function is in the parent class.\")\n",
        "\n",
        "class Child(Parent):\n",
        "    def func2(self):\n",
        "        print(\"This function is in the child class.\")\n",
        "\n",
        "obj = Child()\n",
        "obj.func1()\n",
        "obj.func2()\n",
        "\n",
        "# Multiple Inheritance:\n",
        "# A child class inherits from more than one parent class.\n",
        "# Example:\n",
        "\n",
        "class Mother:\n",
        "    def mother_info(self):\n",
        "        print(\"Mother class\")\n",
        "\n",
        "class Father:\n",
        "    def father_info(self):\n",
        "        print(\"Father class\")\n",
        "\n",
        "class Child(Mother, Father):\n",
        "    def child_info(self):\n",
        "        print(\"Child class\")\n",
        "\n",
        "obj = Child()\n",
        "obj.mother_info()\n",
        "obj.father_info()\n",
        "obj.child_info()\n",
        "\n",
        "# Multilevel Inheritance:\n",
        "# A child class inherits from a parent class, which in turn inherits from another parent class.\n",
        "# Example:\n",
        "\n",
        "class Grandparent:\n",
        "    def func1(self):\n",
        "        print(\"This function is in the grandparent class.\")\n",
        "\n",
        "class Parent(Grandparent):\n",
        "    def func2(self):\n",
        "        print(\"This function is in the parent class.\")\n",
        "\n",
        "class Child(Parent):\n",
        "    def func3(self):\n",
        "        print(\"This function is in the child class.\")\n",
        "\n",
        "obj = Child()\n",
        "obj.func1()\n",
        "obj.func2()\n",
        "obj.func3()\n",
        "\n",
        "# Hierarchical Inheritance:\n",
        "# Multiple child classes inherit from a single parent class.\n",
        "# Example:\n",
        "\n",
        "class Parent:\n",
        "    def func1(self):\n",
        "        print(\"This function is in the parent class.\")\n",
        "\n",
        "class Child1(Parent):\n",
        "    def func2(self):\n",
        "        print(\"This function is in the first child class.\")\n",
        "\n",
        "class Child2(Parent):\n",
        "    def func3(self):\n",
        "        print(\"This function is in the second child class.\")\n",
        "\n",
        "\n",
        "obj1 = Child1()\n",
        "obj2 = Child2()\n",
        "obj1.func1()\n",
        "obj1.func2()\n",
        "obj2.func1()\n",
        "obj2.func3()\n",
        "\n",
        "# Hybrid Inheritance:\n",
        "# A combination of two or more types of inheritance.\n",
        "# Example:\n",
        "\n",
        "class Parent:\n",
        "    def func1(self):\n",
        "        print(\"This function is in the parent class.\")\n",
        "\n",
        "class Child1(Parent):\n",
        "    def func2(self):\n",
        "        print(\"This function is in the first child class.\")\n",
        "\n",
        "class Child2(Parent):\n",
        "    def func3(self):\n",
        "        print(\"This function is in the second child class.\")\n",
        "\n",
        "class GrandChild(Child1, Child2):\n",
        "    def func4(self):\n",
        "        print(\"This function is in the grandchild class.\")\n",
        "\n",
        "obj = GrandChild()\n",
        "obj.func1()\n",
        "obj.func2()\n",
        "obj.func3()\n",
        "obj.func4()\n"
      ],
      "metadata": {
        "id": "iE5ODvFpfnhd",
        "colab": {
          "base_uri": "https://localhost:8080/"
        },
        "outputId": "e6403aae-4b1d-4c4c-b186-4a92e14b5d20"
      },
      "execution_count": 8,
      "outputs": [
        {
          "output_type": "stream",
          "name": "stdout",
          "text": [
            "This function is in the parent class.\n",
            "This function is in the child class.\n",
            "Mother class\n",
            "Father class\n",
            "Child class\n",
            "This function is in the grandparent class.\n",
            "This function is in the parent class.\n",
            "This function is in the child class.\n",
            "This function is in the parent class.\n",
            "This function is in the first child class.\n",
            "This function is in the parent class.\n",
            "This function is in the second child class.\n",
            "This function is in the parent class.\n",
            "This function is in the first child class.\n",
            "This function is in the second child class.\n",
            "This function is in the grandchild class.\n"
          ]
        }
      ]
    },
    {
      "cell_type": "code",
      "source": [
        "# 7. What is the Method Resolution Order (MRO) in Python? How can you retrieve it programmatically?\n",
        "\n",
        "# The Method Resolution Order (MRO) in Python is the order in which Python looks for a method in a hierarchy of classes. This is particularly important in the context of multiple inheritance, where a class is derived from more than one base class. The MRO determines the sequence in which base classes are searched when executing a method.\n",
        "# Python uses the C3 linearization algorithm (also known as C3 superclass linearization) to determine the MRO. This ensures a consistent and predictable order for method resolution.\n",
        "\n",
        "# Retrieving MRO Programmatically:\n",
        "# We can retrieve the MRO of a class using either the __mro__ attribute or the mro() method.\n",
        "\n",
        "# Using the __mro__ attribute:\n",
        "\n",
        "class A:\n",
        "    pass\n",
        "\n",
        "class B(A):\n",
        "    pass\n",
        "\n",
        "class C(A):\n",
        "    pass\n",
        "\n",
        "class D(B, C):\n",
        "    pass\n",
        "\n",
        "print(D.__mro__)\n",
        "\n",
        "# Using the mro() method\n",
        "\n",
        "class A:\n",
        "    pass\n",
        "\n",
        "class B(A):\n",
        "    pass\n",
        "\n",
        "class C(A):\n",
        "    pass\n",
        "\n",
        "class D(B, C):\n",
        "    pass\n",
        "\n",
        "print(D.mro())\n",
        "\n",
        "# Both of these will output the MRO of class D, showing the order in which Python will look for methods: (<class '__main__.D'>, <class '__main__.B'>, <class '__main__.C'>, <class '__main__.A'>, <class 'object'>).\n",
        "# Here python look for methods in class D, then in B followed by C, then A and finally in the bese object class.\n",
        "\n"
      ],
      "metadata": {
        "id": "dCy57BURfnRV",
        "colab": {
          "base_uri": "https://localhost:8080/"
        },
        "outputId": "a4da990c-0cc8-4296-b68f-5254e017063d"
      },
      "execution_count": 2,
      "outputs": [
        {
          "output_type": "stream",
          "name": "stdout",
          "text": [
            "(<class '__main__.D'>, <class '__main__.B'>, <class '__main__.C'>, <class '__main__.A'>, <class 'object'>)\n",
            "[<class '__main__.D'>, <class '__main__.B'>, <class '__main__.C'>, <class '__main__.A'>, <class 'object'>]\n"
          ]
        }
      ]
    },
    {
      "cell_type": "code",
      "source": [
        "# 8. Create an abstract base class `Shape` with an abstract method `area()`. Then create two subclasses\n",
        "# `Circle` and `Rectangle` that implement the `area()` method.\n",
        "\n",
        "# To create an abstract base class in Python, we can use the abc module, which provides the infrastructure for defining abstract base classes (ABCs). Here’s how we can define an abstract base class Shape with an abstract method area(), and then create two subclasses Circle and Rectangle that implement the area() method:\n",
        "\n",
        "from abc import ABC, abstractmethod\n",
        "import math\n",
        "\n",
        "class Shape(ABC):\n",
        "    @abstractmethod\n",
        "    def area(self):\n",
        "        pass\n",
        "\n",
        "class Circle(Shape):\n",
        "    def __init__(self, radius):\n",
        "        self.radius = radius\n",
        "\n",
        "    def area(self):\n",
        "        return math.pi * self.radius ** 2\n",
        "\n",
        "class Rectangle(Shape):\n",
        "    def __init__(self, width, height):\n",
        "        self.width = width\n",
        "        self.height = height\n",
        "\n",
        "    def area(self):\n",
        "        return self.width * self.height\n",
        "\n",
        "circle = Circle(5)\n",
        "rectangle = Rectangle(4, 6)\n",
        "\n",
        "# Print the areas\n",
        "print(f\"Area of the circle: {circle.area()}\")\n",
        "print(f\"Area of the rectangle: {rectangle.area()}\")\n",
        "\n",
        "# Explanation:\n",
        "\n",
        "# Abstract Base Class (Shape):\n",
        "# The Shape class inherits from ABC (Abstract Base Class).\n",
        "# The area method is decorated with @abstractmethod, making it an abstract method that must be implemented by any subclass.\n",
        "\n",
        "# Circle Class:\n",
        "# Inherits from Shape.\n",
        "# Implements the area method to calculate the area of a circle using the formula ( \\pi \\times \\text{radius}^2 ).\n",
        "\n",
        "# Rectangle Class:\n",
        "# Inherits from Shape.\n",
        "# Implements the area method to calculate the area of a rectangle using the formula (\\text{width} \\times \\text{height}).\n",
        "# This setup ensures that any subclass of Shape must implement the area method, providing a consistent interface for calculating areas of different shapes.\n",
        "\n"
      ],
      "metadata": {
        "id": "Ns2WcrA1fnDs",
        "colab": {
          "base_uri": "https://localhost:8080/"
        },
        "outputId": "f919b17f-fa64-4749-c2fe-09ab02a4e38d"
      },
      "execution_count": 1,
      "outputs": [
        {
          "output_type": "stream",
          "name": "stdout",
          "text": [
            "Area of the circle: 78.53981633974483\n",
            "Area of the rectangle: 24\n"
          ]
        }
      ]
    },
    {
      "cell_type": "code",
      "source": [
        "# 9. Demonstrate polymorphism by creating a function that can work with different shape objects to calculate\n",
        "#    and print their areas.\n",
        "\n",
        "# Polymorphism allows us to define methods in a base class and override them in derived classes. This enables us to use a single interface to interact with objects of different classes.\n",
        "# Here is how we can demonstrate polymorphism with the Shape, Circle, and Rectangle classes we defined earlier:\n",
        "\n",
        "from abc import ABC, abstractmethod\n",
        "import math\n",
        "\n",
        "class Shape(ABC):\n",
        "    @abstractmethod\n",
        "    def area(self):\n",
        "        pass\n",
        "\n",
        "class Circle(Shape):\n",
        "    def __init__(self, radius):\n",
        "        self.radius = radius\n",
        "\n",
        "    def area(self):\n",
        "        return math.pi * self.radius ** 2\n",
        "\n",
        "class Rectangle(Shape):\n",
        "    def __init__(self, width, height):\n",
        "        self.width = width\n",
        "        self.height = height\n",
        "\n",
        "    def area(self):\n",
        "        return self.width * self.height\n",
        "\n",
        "def print_area(shape):\n",
        "    print(f\"The area is: {shape.area()}\")\n",
        "\n",
        "# Create instances of Circle and Rectangle\n",
        "circle = Circle(5)\n",
        "rectangle = Rectangle(4, 6)\n",
        "\n",
        "# Use the print_area function to demonstrate polymorphism\n",
        "print_area(circle)\n",
        "print_area(rectangle)\n",
        "\n",
        "# Explanation:\n",
        "# Abstract Base Class (Shape):\n",
        "# The Shape class defines an abstract method area().\n",
        "\n",
        "# Circle and Rectangle Classes:\n",
        "# Both classes inherit from Shape and implement the area() method.\n",
        "\n",
        "# Polymorphic Function (print_area):\n",
        "# The print_area function takes a Shape object as an argument and calls its area() method.\n",
        "# This function can work with any object that is an instance of a class derived from Shape.\n",
        "# By passing different shape objects (Circle and Rectangle) to the print_area function, we demonstrate polymorphism.\n",
        "# The function correctly calls the area() method of each object, regardless of its specific class.\n",
        "\n"
      ],
      "metadata": {
        "id": "1uXiY0Wlfmzb",
        "colab": {
          "base_uri": "https://localhost:8080/"
        },
        "outputId": "1eaa2695-2f3d-4fd7-c488-3ef64ad1b316"
      },
      "execution_count": 4,
      "outputs": [
        {
          "output_type": "stream",
          "name": "stdout",
          "text": [
            "The area is: 78.53981633974483\n",
            "The area is: 24\n"
          ]
        }
      ]
    },
    {
      "cell_type": "code",
      "source": [
        "# 10. Implement encapsulation in a `BankAccount` class with private attributes for `balance` and `account_number`. Include methods for deposit, withdrawal, and balance inquiry.\n",
        "\n",
        "# Here is how we can implement encapsulation in a BankAccount class with private attributes for balance and account_number.\n",
        "# The class will include methods for deposit, withdrawal, and balance inquiry:\n",
        "# Example:\n",
        "\n",
        "class BankAccount:\n",
        "    def __init__(self, account_number, initial_balance=0):\n",
        "        self.__account_number = account_number  # Private attribute\n",
        "        self.__balance = initial_balance        # Private attribute\n",
        "\n",
        "    def deposit(self, amount):\n",
        "        if amount > 0:\n",
        "            self.__balance += amount\n",
        "            print(f\"Deposited {amount}. New balance: {self.__balance}\")\n",
        "        else:\n",
        "            print(\"Deposit amount must be positive.\")\n",
        "    def withdraw(self, amount):\n",
        "        if 0 < amount <= self.__balance:\n",
        "            self.__balance -= amount\n",
        "            print(f\"Withdrew {amount}. New balance: {self.__balance}\")\n",
        "        else:\n",
        "            print(\"Insufficient balance or invalid amount.\")\n",
        "\n",
        "    def get_balance(self):\n",
        "        return self.__balance\n",
        "\n",
        "    def get_account_number(self):\n",
        "        return self.__account_number\n",
        "\n",
        "\n",
        "account = BankAccount(\"123456789\", 1000)\n",
        "account.deposit(500)\n",
        "account.withdraw(200)\n",
        "print(account.get_balance())\n",
        "print(account.get_account_number())\n",
        "\n",
        "\n",
        "# Explanation:\n",
        "\n",
        "# Private Attributes:\n",
        "# __account_number and __balance are private attributes, denoted by the double underscores (__). This makes them inaccessible directly from outside the class.\n",
        "\n",
        "# Methods:\n",
        "# deposit(self, amount): Adds the specified amount to the balance if the amount is positive.\n",
        "# withdraw(self, amount): Deducts the specified amount from the balance if the amount is positive and less than or equal to the current balance.\n",
        "# get_balance(self): Returns the current balance.\n",
        "# get_account_number(self): Returns the account number.\n",
        "\n"
      ],
      "metadata": {
        "colab": {
          "base_uri": "https://localhost:8080/"
        },
        "id": "-NYkLKECLIoU",
        "outputId": "2ac48f59-9c1e-4836-f660-de29b26bd444"
      },
      "execution_count": 9,
      "outputs": [
        {
          "output_type": "stream",
          "name": "stdout",
          "text": [
            "Deposited 500. New balance: 1500\n",
            "Withdrew 200. New balance: 1300\n",
            "1300\n",
            "123456789\n"
          ]
        }
      ]
    },
    {
      "cell_type": "code",
      "source": [
        "# 11. Write a class that overrides the `__str__` and `__add__` magic methods. What will these methods allow\n",
        "#     you to do?\n",
        "\n",
        "# Overriding the __str__ and __add__ magic methods in a class allows you to customize the string representation of objects and define custom behavior for the addition operator (+), respectively.\n",
        "\n",
        "class ComplexNumber:\n",
        "    def __init__(self, real, imag):\n",
        "        self.real = real\n",
        "        self.imag = imag\n",
        "\n",
        "    def __str__(self):\n",
        "        return f\"{self.real} + {self.imag}i\"\n",
        "\n",
        "    def __add__(self, other):\n",
        "        return ComplexNumber(self.real + other.real, self.imag + other.imag)\n",
        "\n",
        "\n",
        "# Create instances of ComplexNumber\n",
        "num1 = ComplexNumber(2, 3)\n",
        "num2 = ComplexNumber(4, 5)\n",
        "\n",
        "# Print the string representation\n",
        "print(num1)  # Output: 2 + 3i\n",
        "\n",
        "# Add two ComplexNumber objects\n",
        "result = num1 + num2\n",
        "print(result)  # Output: 6 + 8i\n",
        "\n",
        "# Explanation:\n",
        "\n",
        "# __str__ Method:\n",
        "# This method is used to define a user-friendly string representation of an object. When we use print() or str() on an object, Python calls the __str__ method.\n",
        "# In the example, __str__ returns a string in the format “real + imagi”, making it easy to understand the complex number.\n",
        "\n",
        "# __add__ Method:\n",
        "# This method allows you to define custom behavior for the addition operator (+). When we use the + operator between two objects of the class, Python calls the __add__ method.\n",
        "# In the example, __add__ adds the real and imaginary parts of two ComplexNumber objects and returns a new ComplexNumber object with the summed values.\n",
        "\n",
        "# By overriding these magic methods, we can make our custom classes more intuitive and user-friendly.\n",
        "\n"
      ],
      "metadata": {
        "colab": {
          "base_uri": "https://localhost:8080/"
        },
        "id": "--hTGGw4MtEj",
        "outputId": "da76d79a-1a59-47ee-bc7d-736187f54b15"
      },
      "execution_count": 10,
      "outputs": [
        {
          "output_type": "stream",
          "name": "stdout",
          "text": [
            "2 + 3i\n",
            "6 + 8i\n"
          ]
        }
      ]
    },
    {
      "cell_type": "code",
      "source": [
        "# 12. Create a decorator that measures and prints the execution time of a function.\n",
        "\n",
        "import time\n",
        "\n",
        "def measure_execution_time(func):\n",
        "    def wrapper(*args, **kwargs):\n",
        "        start_time = time.time()\n",
        "        result = func(*args, **kwargs)\n",
        "        end_time = time.time()\n",
        "        execution_time = end_time - start_time\n",
        "        print(f\"Function {func.__name__} took {execution_time:.4f} seconds to execute\")\n",
        "        return result\n",
        "    return wrapper\n",
        "\n",
        "@measure_execution_time\n",
        "def example_function(n):\n",
        "    total = 0\n",
        "    for i in range(n):\n",
        "        total += i\n",
        "    return total\n",
        "\n",
        "# Call the decorated function\n",
        "result = example_function(1000000)\n",
        "print(f\"Result: {result}\")\n",
        "\n",
        "\n",
        "# Explanation:\n",
        "# Decorator Definition:\n",
        "\n",
        "# measure_execution_time(func): This is the decorator function that takes another function func as an argument.\n",
        "# wrapper(*args, **kwargs): This inner function wraps the original function, allowing it to accept any number of positional and keyword arguments.\n",
        "# start_time = time.time(): Records the start time before the function execution.\n",
        "# result = func(*args, **kwargs): Calls the original function and stores its result.\n",
        "# end_time = time.time(): Records the end time after the function execution.\n",
        "# execution_time = end_time - start_time: Calculates the execution time.\n",
        "# print(f\"Function {func.__name__} took {execution_time:.4f} seconds to execute\"): Prints the execution time.\n",
        "# return result: Returns the result of the original function.\n",
        "\n",
        "# Using the Decorator:\n",
        "\n",
        "# The @measure_execution_time decorator is applied to example_function, which calculates the sum of the first n integers.\n",
        "# When example_function is called, the decorator measures and prints the time it takes to execute.\n",
        "\n"
      ],
      "metadata": {
        "colab": {
          "base_uri": "https://localhost:8080/"
        },
        "id": "RhNezwnKMtm0",
        "outputId": "81459fd2-d9b0-47bb-aeb0-824b3c8dad42"
      },
      "execution_count": 11,
      "outputs": [
        {
          "output_type": "stream",
          "name": "stdout",
          "text": [
            "Function example_function took 0.0735 seconds to execute\n",
            "Result: 499999500000\n"
          ]
        }
      ]
    },
    {
      "cell_type": "code",
      "source": [
        "# 13. Explain the concept of the Diamond Problem in multiple inheritance. How does Python resolve it?\n",
        "\n",
        "# The Diamond Problem occurs in multiple inheritance when a class inherits from two classes that both inherit from a common base class.\n",
        "# This creates an ambiguity in the inheritance hierarchy, as it is unclear which path should be followed to inherit attributes and methods from the common base class.\n",
        "# Diamond Problem Example:\n",
        "\n",
        "class A:\n",
        "    def method(self):\n",
        "        print(\"Method from class A\")\n",
        "\n",
        "class B(A):\n",
        "    def method(self):\n",
        "        print(\"Method from class B\")\n",
        "\n",
        "class C(A):\n",
        "    def method(self):\n",
        "        print(\"Method from class C\")\n",
        "\n",
        "class D(B, C):\n",
        "    pass\n",
        "\n",
        "obj = D()\n",
        "obj.method()\n",
        "\n",
        "# In this example, class D inherits from both B and C, which in turn inherit from A. When obj.method() is called, it is ambiguous whether the method from B or C should be executed.\n",
        "\n",
        "# Python’s Resolution: Method Resolution Order (MRO)\n",
        "\n",
        "# Python resolves the Diamond Problem using the C3 linearization algorithm (also known as C3 superclass linearization).\n",
        "# This algorithm ensures a consistent and predictable order for method resolution, known as the Method Resolution Order (MRO).\n",
        "# we can view the MRO of a class using the __mro__ attribute or the mro() method:\n",
        "\n",
        "print(D.__mro__)\n",
        "print(D.mro())\n",
        "\n",
        "# In this case, the MRO for class D is [D, B, C, A, object]. This means that Python will look for the method in the following order:\n",
        "# 1. D, 2. B, 3. C, 4. A, 5. object\n",
        "# So, when obj.method() is called, Python will use the method from class B because it appears first in the MRO.\n",
        "\n",
        "# This ensures that the method resolution is unambiguous and follows a predictable order.\n"
      ],
      "metadata": {
        "colab": {
          "base_uri": "https://localhost:8080/"
        },
        "id": "9SFUKOALMu1I",
        "outputId": "031c72eb-e73a-42d7-abe9-f943a6084196"
      },
      "execution_count": 12,
      "outputs": [
        {
          "output_type": "stream",
          "name": "stdout",
          "text": [
            "Method from class B\n",
            "(<class '__main__.D'>, <class '__main__.B'>, <class '__main__.C'>, <class '__main__.A'>, <class 'object'>)\n",
            "[<class '__main__.D'>, <class '__main__.B'>, <class '__main__.C'>, <class '__main__.A'>, <class 'object'>]\n"
          ]
        }
      ]
    },
    {
      "cell_type": "code",
      "source": [
        "# 14. Write a class method that keeps track of the number of instances created from a class.\n",
        "\n",
        "# To keep track of the number of instances created from a class, we can use a class variable and a class method.\n",
        "# Here’s an example:\n",
        "\n",
        "class InstanceCounter:\n",
        "    instance_count = 0  # Class variable to keep track of the number of instances\n",
        "\n",
        "    def __init__(self):\n",
        "        InstanceCounter.instance_count += 1\n",
        "\n",
        "    @classmethod\n",
        "    def get_instance_count(cls):\n",
        "        return cls.instance_count\n",
        "\n",
        "obj1 = InstanceCounter()\n",
        "obj2 = InstanceCounter()\n",
        "obj3 = InstanceCounter()\n",
        "\n",
        "print(InstanceCounter.get_instance_count())\n",
        "\n",
        "\n",
        "# Explanation:\n",
        "\n",
        "# Class Variable (instance_count):\n",
        "# instance_count is a class variable that keeps track of the number of instances created. It is shared among all instances of the class.\n",
        "\n",
        "# Constructor (__init__ method):\n",
        "# Each time a new instance is created, the constructor increments the instance_count by 1.\n",
        "\n",
        "# Class Method (get_instance_count):\n",
        "# The get_instance_count method is a class method, denoted by the @classmethod decorator. It returns the current value of instance_count.\n",
        "\n",
        "# By using this approach, we can easily keep track of how many instances of the class have been created"
      ],
      "metadata": {
        "colab": {
          "base_uri": "https://localhost:8080/"
        },
        "id": "6MmRoKu7MvHu",
        "outputId": "be420d98-59ad-405a-8a34-128e9782523e"
      },
      "execution_count": 13,
      "outputs": [
        {
          "output_type": "stream",
          "name": "stdout",
          "text": [
            "3\n"
          ]
        }
      ]
    },
    {
      "cell_type": "code",
      "source": [
        "# 15. Implement a static method in a class that checks if a given year is a leap year.\n",
        "\n",
        "# Here is how we can implement a static method in a class to check if a given year is a leap year:\n",
        "\n",
        "class DateUtils:\n",
        "    @staticmethod\n",
        "    def is_leap_year(year):\n",
        "        if (year % 4 == 0 and year % 100 != 0) or (year % 400 == 0):\n",
        "            return True\n",
        "        else:\n",
        "            return False\n",
        "\n",
        "print(DateUtils.is_leap_year(2024))\n",
        "print(DateUtils.is_leap_year(2023))\n",
        "\n",
        "# Explanation:\n",
        "# Static Method (is_leap_year):\n",
        "# The @staticmethod decorator is used to define a static method. Static methods do not require access to the instance (self) or class (cls) and can be called on the class itself.\n",
        "\n",
        "# Example Usage:\n",
        "\n",
        "# DateUtils.is_leap_year(2024) returns True because 2024 is a leap year.\n",
        "# DateUtils.is_leap_year(2023) returns False because 2023 is not a leap year.\n",
        "# This static method can be used without creating an instance of the DateUtils class, making it convenient for utility functions like checking leap years\n",
        "\n",
        "\n"
      ],
      "metadata": {
        "colab": {
          "base_uri": "https://localhost:8080/"
        },
        "id": "M-xIDoNeMwBE",
        "outputId": "f7d0c83a-e9ee-40e6-9bee-bc4e8a90ea14"
      },
      "execution_count": 14,
      "outputs": [
        {
          "output_type": "stream",
          "name": "stdout",
          "text": [
            "True\n",
            "False\n"
          ]
        }
      ]
    }
  ]
}